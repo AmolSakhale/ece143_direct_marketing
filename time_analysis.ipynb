{
 "cells": [
  {
   "cell_type": "code",
   "execution_count": 1,
   "metadata": {
    "collapsed": true,
    "pycharm": {
     "is_executing": false
    }
   },
   "outputs": [],
   "source": [
    "import seaborn as sns\n",
    "import matplotlib.pyplot as plt\n",
    "\n",
    "import config\n",
    "import time_analysis as ta\n",
    "\n",
    "plt.style.use([{\n",
    "    \"figure.figsize\":(12,9),\n",
    "    \"xtick.labelsize\": \"large\",\n",
    "    \"ytick.labelsize\": \"large\",\n",
    "    \"legend.fontsize\": \"x-large\",\n",
    "    \"axes.labelsize\": \"x-large\",\n",
    "    \"axes.titlesize\": \"xx-large\",\n",
    "    \"axes.spines.top\": False,\n",
    "    \"axes.spines.right\": False,\n",
    "    # \"ytick.major.right\":False,\n",
    "    # \"xtick.major.top\":False\n",
    "},'seaborn'])"
   ]
  },
  {
   "cell_type": "markdown",
   "source": [
    "# Load Data"
   ],
   "metadata": {
    "collapsed": false,
    "pycharm": {
     "name": "#%% md\n",
     "is_executing": false
    }
   }
  },
  {
   "cell_type": "code",
   "execution_count": null,
   "outputs": [],
   "source": [
    "my_ta = ta.TimeAnalysis(config.bank_additional_train_path)\n"
   ],
   "metadata": {
    "collapsed": false,
    "pycharm": {
     "name": "#%%\n"
    }
   }
  },
  {
   "cell_type": "markdown",
   "source": [
    "# Day of the week"
   ],
   "metadata": {
    "collapsed": false,
    "pycharm": {
     "name": "#%% md\n"
    }
   }
  },
  {
   "cell_type": "code",
   "execution_count": 4,
   "outputs": [
    {
     "data": {
      "text/plain": "[Text(0, 0.5, 'Probability of Success (%)'), Text(0.5, 0, '')]"
     },
     "metadata": {},
     "output_type": "execute_result",
     "execution_count": 4
    },
    {
     "data": {
      "text/plain": "<Figure size 432x432 with 1 Axes>",
      "image/png": "[encoded data removed]"
     },
     "metadata": {},
     "output_type": "display_data"
    }
   ],
   "source": [
    "day_of_week_probabilities = my_ta.get_probabilities('day_of_week')\n",
    "\n",
    "f, ax = plt.subplots(figsize=(6, 6))\n",
    "sns.barplot(x=ta.number_to_day_of_week(day_of_week_probabilities['day_of_week']),\n",
    "            y=day_of_week_probabilities['y'] * 100,\n",
    "            palette='muted')\n",
    "ax.set(ylabel='Probability of Success (%)', xlabel=None)"
   ],
   "metadata": {
    "collapsed": false,
    "pycharm": {
     "name": "#%%\n",
     "is_executing": false
    }
   }
  },
  {
   "cell_type": "code",
   "execution_count": 19,
   "outputs": [
    {
     "data": {
      "text/plain": "[Text(0, 0.5, 'Counts')]"
     },
     "metadata": {},
     "output_type": "execute_result",
     "execution_count": 19
    },
    {
     "data": {
      "text/plain": "<Figure size 432x432 with 1 Axes>",
      "image/png": "[encoded data removed]"
     },
     "metadata": {},
     "output_type": "display_data"
    }
   ],
   "source": [
    "day_of_week_successes = my_ta.get_success_count('day_of_week')\n",
    "day_of_week_count = my_ta.get_count('day_of_week')\n",
    "\n",
    "f, ax = plt.subplots(figsize=(6, 6))\n",
    "sns.barplot(x=ta.number_to_day_of_week(day_of_week_count['day_of_week']),\n",
    "            y=day_of_week_count['y'],\n",
    "            palette='pastel',\n",
    "            label=\"Total\")\n",
    "sns.barplot(x=ta.number_to_day_of_week(day_of_week_successes['day_of_week']),\n",
    "            y=day_of_week_successes['y'],\n",
    "            palette='muted',\n",
    "            label=\"Successes\")\n",
    "ax.legend(ncol=2, loc=\"lower right\", frameon=True)\n",
    "ax.set(ylabel='Counts')"
   ],
   "metadata": {
    "collapsed": false,
    "pycharm": {
     "name": "#%%\n",
     "is_executing": false
    }
   }
  },
  {
   "cell_type": "markdown",
   "source": [
    "# Month"
   ],
   "metadata": {
    "collapsed": false,
    "pycharm": {
     "name": "#%% md\n"
    }
   }
  },
  {
   "cell_type": "code",
   "execution_count": 7,
   "outputs": [
    {
     "data": {
      "text/plain": "[Text(0, 0.5, 'Probability of Success (%)'), Text(0.5, 0, '')]"
     },
     "metadata": {},
     "output_type": "execute_result",
     "execution_count": 7
    },
    {
     "data": {
      "text/plain": "<Figure size 432x432 with 1 Axes>",
      "image/png": "[encoded data removed]"
     },
     "metadata": {},
     "output_type": "display_data"
    }
   ],
   "source": [
    "month_probabilities = my_ta.get_probabilities('month')\n",
    "\n",
    "f, ax = plt.subplots(figsize=(6, 6))\n",
    "sns.barplot(x=ta.number_to_month(month_probabilities['month']),\n",
    "            y=month_probabilities['y'] * 100,\n",
    "            palette='muted')\n",
    "ax.set(ylabel='Probability of Success (%)',\n",
    "       xlabel=None)"
   ],
   "metadata": {
    "collapsed": false,
    "pycharm": {
     "name": "#%%\n",
     "is_executing": false
    }
   }
  },
  {
   "cell_type": "code",
   "execution_count": 10,
   "outputs": [
    {
     "name": "stderr",
     "text": [
      "C:\\Users\\iansp\\Miniconda3\\envs\\ece143_direct_marketing\\lib\\site-packages\\ipykernel_launcher.py:13: MatplotlibDeprecationWarning: Unrecognized location 'top right'. Falling back on 'best'; valid locations are\n",
      "\tbest\n",
      "\tupper right\n",
      "\tupper left\n",
      "\tlower left\n",
      "\tlower right\n",
      "\tright\n",
      "\tcenter left\n",
      "\tcenter right\n",
      "\tlower center\n",
      "\tupper center\n",
      "\tcenter\n",
      "This will raise an exception in 3.3.\n",
      "  del sys.path[0]\n"
     ],
     "output_type": "stream"
    },
    {
     "data": {
      "text/plain": "[Text(0, 0.5, 'Counts')]"
     },
     "metadata": {},
     "output_type": "execute_result",
     "execution_count": 10
    },
    {
     "data": {
      "text/plain": "<Figure size 432x432 with 1 Axes>",
      "image/png": "[encoded data removed]"
     },
     "metadata": {},
     "output_type": "display_data"
    }
   ],
   "source": [
    "month_successes = my_ta.get_success_count('month')\n",
    "month_count = my_ta.get_count('month')\n",
    "\n",
    "f, ax = plt.subplots(figsize=(6, 6))\n",
    "sns.barplot(x=ta.number_to_month(month_count['month']),\n",
    "            y=month_count['y'],\n",
    "            palette='pastel',\n",
    "            label=\"Total\")\n",
    "sns.barplot(x=ta.number_to_month(month_successes['month']),\n",
    "            y=month_successes['y'],\n",
    "            palette='muted',\n",
    "            label=\"Successes\")\n",
    "ax.legend(ncol=2, loc=\"top right\", frameon=True)\n",
    "ax.set(ylabel='Counts')"
   ],
   "metadata": {
    "collapsed": false,
    "pycharm": {
     "name": "#%%\n",
     "is_executing": false
    }
   }
  },
  {
   "cell_type": "code",
   "execution_count": 23,
   "outputs": [],
   "source": [
    "month_filter = month_count['y'] > 1000"
   ],
   "metadata": {
    "collapsed": false,
    "pycharm": {
     "name": "#%%\n",
     "is_executing": false
    }
   }
  },
  {
   "cell_type": "code",
   "execution_count": 24,
   "outputs": [
    {
     "data": {
      "text/plain": "[Text(0, 0.5, 'Probability of Success (%)'), Text(0.5, 0, '')]"
     },
     "metadata": {},
     "output_type": "execute_result",
     "execution_count": 24
    },
    {
     "data": {
      "text/plain": "<Figure size 432x432 with 1 Axes>",
      "image/png": "[encoded data removed]"
     },
     "metadata": {},
     "output_type": "display_data"
    }
   ],
   "source": [
    "month_probabilities_filtered = month_probabilities[month_filter]\n",
    "\n",
    "f, ax = plt.subplots(figsize=(6, 6))\n",
    "sns.barplot(x=ta.number_to_month(month_probabilities_filtered['month']),\n",
    "            y=month_probabilities_filtered['y'] * 100,\n",
    "            palette='muted')\n",
    "ax.set(ylabel='Probability of Success (%)',\n",
    "       xlabel=None)"
   ],
   "metadata": {
    "collapsed": false,
    "pycharm": {
     "name": "#%%\n",
     "is_executing": false
    }
   }
  },
  {
   "cell_type": "code",
   "execution_count": 25,
   "outputs": [
    {
     "name": "stderr",
     "text": [
      "C:\\Users\\iansp\\Miniconda3\\envs\\ece143_direct_marketing\\lib\\site-packages\\ipykernel_launcher.py:13: MatplotlibDeprecationWarning: Unrecognized location 'top right'. Falling back on 'best'; valid locations are\n",
      "\tbest\n",
      "\tupper right\n",
      "\tupper left\n",
      "\tlower left\n",
      "\tlower right\n",
      "\tright\n",
      "\tcenter left\n",
      "\tcenter right\n",
      "\tlower center\n",
      "\tupper center\n",
      "\tcenter\n",
      "This will raise an exception in 3.3.\n",
      "  del sys.path[0]\n"
     ],
     "output_type": "stream"
    },
    {
     "data": {
      "text/plain": "[Text(0, 0.5, 'Counts')]"
     },
     "metadata": {},
     "output_type": "execute_result",
     "execution_count": 25
    },
    {
     "data": {
      "text/plain": "<Figure size 432x432 with 1 Axes>",
      "image/png": "[encoded data removed]"
     },
     "metadata": {},
     "output_type": "display_data"
    }
   ],
   "source": [
    "month_successes_filtered = month_successes[month_filter]\n",
    "month_count_filtered = month_count[month_filter]\n",
    "\n",
    "f, ax = plt.subplots(figsize=(6, 6))\n",
    "sns.barplot(x=ta.number_to_month(month_count_filtered['month']),\n",
    "            y=month_count_filtered['y'],\n",
    "            palette='pastel',\n",
    "            label=\"Total\")\n",
    "sns.barplot(x=ta.number_to_month(month_successes_filtered['month']),\n",
    "            y=month_successes_filtered['y'],\n",
    "            palette='muted',\n",
    "            label=\"Successes\")\n",
    "ax.legend(ncol=2, loc=\"top right\", frameon=True)\n",
    "ax.set(ylabel='Counts')\n",
    "\n"
   ],
   "metadata": {
    "collapsed": false,
    "pycharm": {
     "name": "#%%\n",
     "is_executing": false
    }
   }
  },
  {
   "cell_type": "code",
   "execution_count": null,
   "outputs": [],
   "source": [
    "\n"
   ],
   "metadata": {
    "collapsed": false,
    "pycharm": {
     "name": "#%%\n"
    }
   }
  }
 ],
 "metadata": {
  "kernelspec": {
   "name": "python3",
   "language": "python",
   "display_name": "Python 3"
  },
  "language_info": {
   "codemirror_mode": {
    "name": "ipython",
    "version": 2
   },
   "file_extension": ".py",
   "mimetype": "text/x-python",
   "name": "python",
   "nbconvert_exporter": "python",
   "pygments_lexer": "ipython2",
   "version": "2.7.6"
  },
  "pycharm": {
   "stem_cell": {
    "cell_type": "raw",
    "source": [],
    "metadata": {
     "collapsed": false
    }
   }
  }
 },
 "nbformat": 4,
 "nbformat_minor": 0
}